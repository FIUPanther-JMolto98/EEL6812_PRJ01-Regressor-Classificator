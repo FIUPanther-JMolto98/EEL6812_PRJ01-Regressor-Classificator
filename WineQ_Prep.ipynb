{
  "cells": [
    {
      "cell_type": "markdown",
      "metadata": {
        "id": "vB3bHSucPIVs"
      },
      "source": [
        "<hr></hr>\n",
        "<div style=\"text-align: center\">\n",
        "    <h1 style=\"font-family: Georgia; font-size: 20px;\">BEGINNING OF DATA PREPARATION (DR. BARRETO'S HELPER CODE):</p>\n",
        "</div>\n",
        "<hr></hr>"
      ]
    },
    {
      "cell_type": "code",
      "execution_count": 1,
      "metadata": {
        "id": "XrcPuh9-KY0j"
      },
      "outputs": [
        {
          "name": "stderr",
          "output_type": "stream",
          "text": [
            "C:\\Users\\jmolt\\AppData\\Local\\Temp\\ipykernel_3452\\3136485197.py:23: FutureWarning: The frame.append method is deprecated and will be removed from pandas in a future version. Use pandas.concat instead.\n",
            "  wines = red.append(white, ignore_index = True)\n"
          ]
        }
      ],
      "source": [
        "# Import Required Libraries  \n",
        "import matplotlib.pyplot as plt \n",
        "import numpy as np \n",
        "# This time we need to also import pandas\n",
        "import pandas as pd \n",
        "\n",
        "# Read in white wine data \n",
        "# USES PANDAS (pd) to create a PANDAS DataFrame OBJECT:\n",
        "white = pd.read_csv(\"http://archive.ics.uci.edu/ml/machine-learning-databases/wine-quality/winequality-white.csv\", sep =';') \n",
        "\n",
        "# Read in red wine data \n",
        "# USES PANDAS (pd) to create a PANDAS DataFrame OBJECT:\n",
        "red = pd.read_csv(\"http://archive.ics.uci.edu/ml/machine-learning-databases/wine-quality/winequality-red.csv\", sep =';') \n",
        "\n",
        "# Add `type` column to `red` with price one  - done with PANDAS\n",
        "red['type'] = 1\n",
        "  \n",
        "# Add `type` column to `white` with price zero - done with PANDAS \n",
        "white['type'] = 0\n",
        "  \n",
        "# Append `white` to `red` - done with PANDAS\n",
        "# AFTER THIS WE HAVE ALL WINES (red and white) in a SINGLE pandas DataFrame\n",
        "wines = red.append(white, ignore_index = True) \n",
        "\n",
        "# Import SKLEARN\n",
        "import sklearn\n",
        "# Import `train_test_split` from `sklearn.model_selection` \n",
        "from sklearn.model_selection import train_test_split \n",
        "\n",
        "# Specify the  data - \n",
        "X1 = wines.iloc[:, 0:11]\n",
        "X2 = wines.iloc[:,12]\n",
        "X = pd.concat([X1,X2],axis = 1)\n",
        "\n",
        "# Specify the QUALITY target labels and flatten the array \n",
        "y = np.ravel(wines.quality) \n",
        "\n",
        "# Splitting the data set for training and validating  - Done with SKLEARN\n",
        "X_train, X_valid, y_train, y_valid = train_test_split( \n",
        "                 X, y, test_size = 0.25, random_state = 45) \n"
      ]
    },
    {
      "cell_type": "code",
      "execution_count": 2,
      "metadata": {
        "id": "AYtcmE0J4qQb"
      },
      "outputs": [],
      "source": [
        "# CONVERTING X_train & X_test DataFrame s to TF tensors\n",
        "# Will USE NumPy, TF & Keras after this\n",
        "# import tensorflow as tf \n",
        "\n",
        "Xtrain = X_train.to_numpy()\n",
        "X_valid = X_valid.to_numpy()"
      ]
    },
    {
      "cell_type": "code",
      "execution_count": 3,
      "metadata": {
        "id": "qpHhdmJN6HVq"
      },
      "outputs": [],
      "source": [
        "# In reality:\n",
        "# [1] ALL THE Xtrain patterns (with their y_train targets) \n",
        "# will be used for TRAINING ([TR]), as Xtrain & y_train\n",
        "# [2] MOST OF THE X_valid patterns (and their y_valid targets) \n",
        "#  will be used for VALIDATION ([TT]),  as X_val & y_val\n",
        "# BUT WE WILL SET ASIDE THE LAST 10 for \"testing\" ([TS])\n",
        "#  as X_tst & y_tst"
      ]
    },
    {
      "cell_type": "code",
      "execution_count": 4,
      "metadata": {
        "colab": {
          "base_uri": "https://localhost:8080/"
        },
        "id": "T10AK-Ip7YMb",
        "outputId": "1615439a-6fca-43c0-86da-45abb0b16d12"
      },
      "outputs": [
        {
          "data": {
            "text/plain": [
              "(1625, 12)"
            ]
          },
          "execution_count": 4,
          "metadata": {},
          "output_type": "execute_result"
        }
      ],
      "source": [
        "# To separate the last 10 in X_valid, let's first see the shape of X_valid\n",
        "X_valid.shape"
      ]
    },
    {
      "cell_type": "code",
      "execution_count": 5,
      "metadata": {
        "colab": {
          "base_uri": "https://localhost:8080/"
        },
        "id": "Gj64QrXI7npC",
        "outputId": "b2ce5d14-6b60-420b-a54d-ea6a44ac34ef"
      },
      "outputs": [
        {
          "data": {
            "text/plain": [
              "(1625,)"
            ]
          },
          "execution_count": 5,
          "metadata": {},
          "output_type": "execute_result"
        }
      ],
      "source": [
        "# And verify also the shape of y_valid\n",
        "y_valid.shape"
      ]
    },
    {
      "cell_type": "code",
      "execution_count": 6,
      "metadata": {
        "colab": {
          "base_uri": "https://localhost:8080/"
        },
        "id": "2jDS0FsF739z",
        "outputId": "35f09467-71e5-4bb3-d869-3b14f57629eb"
      },
      "outputs": [
        {
          "data": {
            "text/plain": [
              "(1615, 12)"
            ]
          },
          "execution_count": 6,
          "metadata": {},
          "output_type": "execute_result"
        }
      ],
      "source": [
        "# Retain the first 1615 for validation ([TT])\n",
        "Xval = X_valid[:1615]\n",
        "Xval.shape"
      ]
    },
    {
      "cell_type": "code",
      "execution_count": 7,
      "metadata": {
        "colab": {
          "base_uri": "https://localhost:8080/"
        },
        "id": "C_zJIn2Z-AS6",
        "outputId": "c1732c37-815c-4646-eba4-f465d388ed93"
      },
      "outputs": [
        {
          "data": {
            "text/plain": [
              "(10, 12)"
            ]
          },
          "execution_count": 7,
          "metadata": {},
          "output_type": "execute_result"
        }
      ],
      "source": [
        "# and now set aside the last 10 for \"test\"\n",
        "Xtst = X_valid[1615:]\n",
        "Xtst.shape"
      ]
    },
    {
      "cell_type": "code",
      "execution_count": 8,
      "metadata": {
        "colab": {
          "base_uri": "https://localhost:8080/"
        },
        "id": "YlrWhyX1-qQa",
        "outputId": "a993de6d-807c-4857-f0b2-19ff62fe6d65"
      },
      "outputs": [
        {
          "data": {
            "text/plain": [
              "(1615,)"
            ]
          },
          "execution_count": 8,
          "metadata": {},
          "output_type": "execute_result"
        }
      ],
      "source": [
        "# SAME FOR THE CORRESPONDING TARGETS\n",
        "# Retain the first 1615 for validation ([TT])\n",
        "y_val = y_valid[:1615]\n",
        "y_val.shape"
      ]
    },
    {
      "cell_type": "code",
      "execution_count": 9,
      "metadata": {
        "colab": {
          "base_uri": "https://localhost:8080/"
        },
        "id": "yesLMjKx--2r",
        "outputId": "0765e045-2ce7-4c3a-c536-ec3982b64f34"
      },
      "outputs": [
        {
          "data": {
            "text/plain": [
              "(10,)"
            ]
          },
          "execution_count": 9,
          "metadata": {},
          "output_type": "execute_result"
        }
      ],
      "source": [
        "y_tst = y_valid[1615:]\n",
        "y_tst.shape"
      ]
    },
    {
      "cell_type": "code",
      "execution_count": 10,
      "metadata": {
        "colab": {
          "base_uri": "https://localhost:8080/"
        },
        "id": "QOIgFLku-2mr",
        "outputId": "58cb8581-ab71-46c5-9577-223cd97ed9bf"
      },
      "outputs": [
        {
          "data": {
            "text/plain": [
              "array([5, 5, 7, 6, 5, 5, 6, 6, 7, 6], dtype=int64)"
            ]
          },
          "execution_count": 10,
          "metadata": {},
          "output_type": "execute_result"
        }
      ],
      "source": [
        "y_tst"
      ]
    },
    {
      "cell_type": "code",
      "execution_count": 11,
      "metadata": {
        "id": "3zfsQQNn6ABr"
      },
      "outputs": [],
      "source": [
        " # NOW, IN ADDITION, CREATE THE TARGETS AS ONE-HOT-ENCODED 4 quality LEVELS"
      ]
    },
    {
      "cell_type": "code",
      "execution_count": 12,
      "metadata": {
        "colab": {
          "base_uri": "https://localhost:8080/"
        },
        "id": "HImrn2sHKvz_",
        "outputId": "159508a8-ce9b-4352-991e-3b8958fc0feb"
      },
      "outputs": [
        {
          "data": {
            "text/plain": [
              "array([5, 4, 6, 5, 5, 6, 7, 6, 5, 8, 5], dtype=int64)"
            ]
          },
          "execution_count": 12,
          "metadata": {},
          "output_type": "execute_result"
        }
      ],
      "source": [
        "# We will track these few targets through the conversion process\n",
        "y_train[272:283]"
      ]
    },
    {
      "cell_type": "code",
      "execution_count": 13,
      "metadata": {
        "id": "iB1RjHR7PQD7"
      },
      "outputs": [],
      "source": [
        "# Function create rank-1 arrays where 3,4,5,6,7,8,9 are mapped to 1 or 2 or 3 or 4 \n",
        "def to_4cs(x):\n",
        "  lx = len(x)\n",
        "  results = np.zeros(lx)\n",
        "  for i in range(lx):\n",
        "      # print( \"start\")\n",
        "      xa = x[i];\n",
        "      if xa <= 3:\n",
        "          results[i] = 1      # 1, 2 and 3 map to Q-LEVEL 1 ( BAD Wine)\n",
        "      elif xa <=6:\n",
        "          results[i] = 2      # 4, 5 and 6 map to Q-LEVEL 2  (MEDIUM Wine)\n",
        "      elif xa <=8:\n",
        "          results[i] = 3      # 7 and 8 and 6 map to Q-LEVEL 3  (GOOD Wine)\n",
        "      else:\n",
        "          results[i] = 4      # 9 and above map to Q-LEVEL 4  (EXCELLENT Wine)\n",
        "    # results[i, label] = 1.\n",
        "  results = results.astype(int)\n",
        "  return results"
      ]
    },
    {
      "cell_type": "code",
      "execution_count": 14,
      "metadata": {
        "id": "LhSoZ0b9Ptyj"
      },
      "outputs": [],
      "source": [
        "train_labels = to_4cs(y_train)\n",
        "val_labels = to_4cs(y_val)\n",
        "tst_labels = to_4cs(y_tst)"
      ]
    },
    {
      "cell_type": "code",
      "execution_count": 15,
      "metadata": {
        "colab": {
          "base_uri": "https://localhost:8080/"
        },
        "id": "RmSc8yQ5NgQe",
        "outputId": "ca83507c-ab9d-4c78-af23-8c90b7e62d61"
      },
      "outputs": [
        {
          "data": {
            "text/plain": [
              "array([2, 2, 2, 2, 2, 2, 3, 2, 2, 3, 2])"
            ]
          },
          "execution_count": 15,
          "metadata": {},
          "output_type": "execute_result"
        }
      ],
      "source": [
        "\n",
        "# Let's verify that the trainnig targets that we are tracking\n",
        "# were converted to levels (1 = BAD; 2 = MEDIUM; 3 = GOOD; 4- EXCELLENT) correctly:\n",
        "train_labels[272:283]"
      ]
    },
    {
      "cell_type": "code",
      "execution_count": 16,
      "metadata": {
        "id": "Cs-J7sRmKhGf"
      },
      "outputs": [],
      "source": [
        "# NOW, ONE-HOT ENCODING OF ALL 3  TARGET ARRAYS\n",
        "# define a function to do the one-hot-encoding of output labels\n",
        "\n",
        "def to_one_hot(labels, dimension=4):\n",
        "    results = np.zeros((len(labels), dimension))\n",
        "    for i, label in enumerate(labels-1):\n",
        "        results[i, label] = 1.\n",
        "    return results\n",
        "\n",
        "one_hot_train_labels = to_one_hot(train_labels)\n",
        "one_hot_val_labels = to_one_hot(val_labels)\n",
        "one_hot_tst_labels = to_one_hot(tst_labels)"
      ]
    },
    {
      "cell_type": "code",
      "execution_count": 17,
      "metadata": {
        "colab": {
          "base_uri": "https://localhost:8080/"
        },
        "id": "Mk1q-JDyBChj",
        "outputId": "447a32dc-e1a6-44a2-ef30-46b8383b1d33"
      },
      "outputs": [
        {
          "data": {
            "text/plain": [
              "array([[0., 1., 0., 0.],\n",
              "       [0., 1., 0., 0.],\n",
              "       [0., 1., 0., 0.],\n",
              "       [0., 1., 0., 0.],\n",
              "       [0., 1., 0., 0.],\n",
              "       [0., 1., 0., 0.],\n",
              "       [0., 0., 1., 0.],\n",
              "       [0., 1., 0., 0.],\n",
              "       [0., 1., 0., 0.],\n",
              "       [0., 0., 1., 0.],\n",
              "       [0., 1., 0., 0.]])"
            ]
          },
          "execution_count": 17,
          "metadata": {},
          "output_type": "execute_result"
        }
      ],
      "source": [
        "#Let's verify that the training targets we have tracked were\n",
        "# one-hot encoded correctly\n",
        "one_hot_train_labels[272:283,]"
      ]
    },
    {
      "cell_type": "code",
      "execution_count": 18,
      "metadata": {
        "id": "FfIxlsEISc5W"
      },
      "outputs": [],
      "source": [
        "# SO, AFTER EXECUTING THIS CELL, YOU WILL HAVE:\n",
        "# FOR TRAINING:\n",
        "#  Xtrain (4872, 12)...y_train (4872,)...train_labels(4872,)....one_hot_train_labels (4872,4)\n",
        "# FOR VALIDATING:\n",
        "#  Xval (1615, 12)...y_val (1615,)...val_labels(1615,)...one_hot_val_labels (1615,4)\n",
        "# FOR TESTING:\n",
        "#  Xtst (10, 12)...y_tst (10,)...tst_labels(10,)... one_hot_tst_labels (10,4)\n",
        "# PLEASE DO NOT CHANGE THE NAMES OF THESE VARIABLES (So that instructor can use them)"
      ]
    },
    {
      "cell_type": "markdown",
      "metadata": {},
      "source": [
        "<hr></hr>\n",
        "<div style=\"text-align: center\">\n",
        "    <h1 style=\"font-family: Georgia; font-size: 20px;\">CONTINUATION OF DATA PREPARATION:</p>\n",
        "        <h2 style=\"font-family: Georgia; font-size: 18px;\">JOAQUIN MOLTO (PID: 6119985)</p>\n",
        "</div>\n",
        "<hr></hr>"
      ]
    },
    {
      "cell_type": "markdown",
      "metadata": {},
      "source": [
        "*CONVERT DATA FROM NUMPY ARRAYS $\\rightarrow$ PANDAS DARAFRAMES*"
      ]
    },
    {
      "cell_type": "code",
      "execution_count": 19,
      "metadata": {},
      "outputs": [],
      "source": [
        "# CONVERT INPUT DATA (X) FROM NUMPY ARRAYS TO PANDAS DATAFRAMES (PREVENTS FIRST ROW (0) FROM BEING TREATED AS COLUMN NAMES)\n",
        "Xtrain_DF = pd.DataFrame(Xtrain)\n",
        "Xval_DF = pd.DataFrame(Xval)\n",
        "Xtst_DF = pd.DataFrame(Xtst)\n",
        "# CONVERT REGRESSION TARGET DATA (Y) FROM NUMPY ARRAYS TO PANDAS DATAFRAMES (PREVENTS FIRST ROW (0) FROM BEING TREATED AS COLUMN NAMES)\n",
        "y_train_DF = pd.DataFrame(y_train)\n",
        "y_val_DF = pd.DataFrame(y_val)\n",
        "y_tst_DF = pd.DataFrame(y_tst)\n",
        "# CONVERT CLASSIFICATION TARGET DATA (Y) FROM NUMPY ARRAYS TO PANDAS DATAFRAMES (PREVENTS FIRST ROW (0) FROM BEING TREATED AS COLUMN NAMES)\n",
        "train_labels_DF = pd.DataFrame(train_labels)\n",
        "val_labels_DF = pd.DataFrame(val_labels)\n",
        "tst_labels_DF = pd.DataFrame(tst_labels)\n",
        "# CONVERT CLASSIFICATION TARGET DATA (Y) (ONE-HOT ENCODED) FROM NUMPY ARRAYS TO PANDAS DATAFRAMES (PREVENTS FIRST ROW (0) FROM BEING TREATED AS COLUMN NAMES)\n",
        "one_hot_train_labels_DF = pd.DataFrame(one_hot_train_labels)\n",
        "one_hot_val_labels_DF = pd.DataFrame(one_hot_val_labels)\n",
        "one_hot_tst_labels_DF = pd.DataFrame(one_hot_tst_labels)"
      ]
    },
    {
      "cell_type": "markdown",
      "metadata": {},
      "source": [
        "*CONVERT DATA FROM PANDAS DATAFRAMES $\\rightarrow$ CSVs*"
      ]
    },
    {
      "cell_type": "code",
      "execution_count": 20,
      "metadata": {},
      "outputs": [],
      "source": [
        "\n",
        "# SAVE PANDAS DATAFRAMES CORRESPONDING TO INPUT DATA (X) INTO CSV FILES\n",
        "Xtrain_DF.to_csv('TR.csv',index=None)\n",
        "Xval_DF.to_csv('TT.csv',index=None)\n",
        "Xtst_DF.to_csv('TS.csv',index=None)\n",
        "# SAVE PANDAS DATAFRAMES CORRESPONDING TO REGRESSION TARGETS (Y) INTO CSV FILES\n",
        "y_train_DF.to_csv('TR_TARGET.csv',index=None)\n",
        "y_val_DF.to_csv('TT_TARGET.csv',index=None)\n",
        "y_tst_DF.to_csv('TS_TARGET.csv',index=None)\n",
        "# SAVE PANDAS DATAFRAMES CORRESPONDING TO CLASSIFICATION TARGETS (Y) INTO CSV FILES\n",
        "train_labels_DF.to_csv('TR_CLS_TARGET.csv',index=None)\n",
        "val_labels_DF.to_csv('TT_CLS_TARGET.csv',index=None)\n",
        "tst_labels_DF.to_csv('TS_CLS_TARGET.csv',index=None)\n",
        "# SAVE PANDAS DATAFRAMES CORRESPONDING TO CLASSIFICATION TARGETS (Y) (ONE-HOT ENCODED) INTO CSV FILES\n",
        "one_hot_train_labels_DF.to_csv('TR_CLS_TARGET_OH.csv',index=None)\n",
        "one_hot_val_labels_DF.to_csv('TT_CLS_TARGET_OH.csv',index=None)\n",
        "one_hot_tst_labels_DF.to_csv('TS_CLS_TARGET_OH.csv',index=None)"
      ]
    },
    {
      "cell_type": "markdown",
      "metadata": {},
      "source": [
        "*PERFORM STANDARDIZATION USING SCIKIT-LEARN STANDARD SCALER*"
      ]
    },
    {
      "cell_type": "code",
      "execution_count": 21,
      "metadata": {},
      "outputs": [],
      "source": [
        "from sklearn.preprocessing import StandardScaler\n",
        "\n",
        "scaler = StandardScaler()\n",
        "\n",
        "XtrainSTD = scaler.fit_transform(Xtrain_DF)\n",
        "XvalSTD = scaler.fit_transform(Xval_DF)\n",
        "XtstSTD = scaler.fit_transform(Xtst_DF)\n",
        "\n",
        "y_trainSTD = scaler.fit_transform(y_train_DF)\n",
        "y_valSTD = scaler.fit_transform(y_val_DF)\n",
        "y_tstSTD = scaler.fit_transform(y_tst_DF)\n",
        "\n",
        "XtrainSTD_DF = pd.DataFrame(XtrainSTD)\n",
        "XvalSTD_DF = pd.DataFrame(XvalSTD)\n",
        "XtstSTD_DF = pd.DataFrame(XtstSTD)\n",
        "\n",
        "y_trainSTD_DF = pd.DataFrame(y_trainSTD)\n",
        "y_valSTD_DF = pd.DataFrame(y_valSTD)\n",
        "y_tstSTD_DF = pd.DataFrame(y_tstSTD)\n",
        "\n",
        "XtrainSTD_DF.to_csv('TR_STANDARDIZED.csv', index=None)\n",
        "XvalSTD_DF.to_csv('TT_STANDARDIZED.csv', index=None)\n",
        "XtstSTD_DF.to_csv('TS_STANDARDIZED.csv', index=None)\n",
        "\n",
        "y_trainSTD_DF.to_csv('TR_TARGET_STANDARDIZED.csv', index=None)\n",
        "y_valSTD_DF.to_csv('TT_TARGET_STANDARDIZED.csv', index=None)\n",
        "y_tstSTD_DF.to_csv('TS_TARGET_STANDARDIZED.csv', index=None)"
      ]
    },
    {
      "cell_type": "markdown",
      "metadata": {
        "id": "Bq_9V9XCSd6t"
      },
      "source": [
        "++++  END OF THE DATA PREPARATION PART ++++"
      ]
    }
  ],
  "metadata": {
    "accelerator": "GPU",
    "colab": {
      "collapsed_sections": [],
      "name": "WineQ_Prep.ipynb",
      "provenance": []
    },
    "kernelspec": {
      "display_name": "Python 3",
      "name": "python3"
    },
    "language_info": {
      "codemirror_mode": {
        "name": "ipython",
        "version": 3
      },
      "file_extension": ".py",
      "mimetype": "text/x-python",
      "name": "python",
      "nbconvert_exporter": "python",
      "pygments_lexer": "ipython3",
      "version": "3.9.18"
    }
  },
  "nbformat": 4,
  "nbformat_minor": 0
}
